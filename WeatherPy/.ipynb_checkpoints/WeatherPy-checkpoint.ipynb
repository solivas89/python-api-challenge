{
 "cells": [
  {
   "cell_type": "markdown",
   "metadata": {},
   "source": [
    "# WeatherPy\n",
    "----\n",
    "\n",
    "#### Note\n",
    "* Instructions have been included for each segment. You do not have to follow them exactly, but they are included to help you think through the steps."
   ]
  },
  {
   "cell_type": "code",
   "execution_count": 4,
   "metadata": {
    "scrolled": true
   },
   "outputs": [],
   "source": [
    "# Dependencies and Setup\n",
    "import matplotlib.pyplot as plt\n",
    "import pandas as pd\n",
    "import numpy as np\n",
    "import requests\n",
    "import time\n",
    "from scipy.stats import linregress\n",
    "\n",
    "# Import API key\n",
    "from config import weather_api_key\n",
    "\n",
    "# Incorporated citipy to determine city based on latitude and longitude\n",
    "from citipy import citipy\n",
    "\n",
    "# Output File (CSV)\n",
    "output_data_file = \"output_data/cities.csv\"\n",
    "\n",
    "# Range of latitudes and longitudes\n",
    "lat_range = (-90, 90)\n",
    "lng_range = (-180, 180)"
   ]
  },
  {
   "cell_type": "markdown",
   "metadata": {},
   "source": [
    "## Generate Cities List"
   ]
  },
  {
   "cell_type": "code",
   "execution_count": 5,
   "metadata": {},
   "outputs": [
    {
     "data": {
      "text/plain": [
       "623"
      ]
     },
     "execution_count": 5,
     "metadata": {},
     "output_type": "execute_result"
    }
   ],
   "source": [
    "base_url = f'http://api.openweathermap.org/data/2.5/weather?appid={weather_api_key}&units=imperial'\n",
    "\n",
    "# List for holding lat_lngs and cities\n",
    "lat_lngs = []\n",
    "cities = []\n",
    "\n",
    "# Create a set of random lat and lng combinations\n",
    "lats = np.random.uniform(lat_range[0], lat_range[1], size=1500)\n",
    "lngs = np.random.uniform(lng_range[0], lng_range[1], size=1500)\n",
    "lat_lngs = zip(lats, lngs)\n",
    "\n",
    "# Identify nearest city for each lat, lng combination\n",
    "for lat_lng in lat_lngs:\n",
    "    city = citipy.nearest_city(lat_lng[0], lat_lng[1]).city_name\n",
    "    \n",
    "    # If the city is unique, then add it to a our cities list\n",
    "    if city not in cities:\n",
    "        cities.append(city)\n",
    "\n",
    "# Print the city count to confirm sufficient count\n",
    "len(cities)"
   ]
  },
  {
   "cell_type": "markdown",
   "metadata": {},
   "source": [
    "### Perform API Calls\n",
    "* Perform a weather check on each city using a series of successive API calls.\n",
    "* Include a print log of each city as it'sbeing processed (with the city number and city name).\n"
   ]
  },
  {
   "cell_type": "code",
   "execution_count": 6,
   "metadata": {},
   "outputs": [
    {
     "name": "stdout",
     "output_type": "stream",
     "text": [
      "Beginning Data Retrieval\n",
      "-----------------------------\n",
      "Processing Record 1 of Set 1 | hualmay\n",
      "Processing Record 2 of Set 1 | mataura\n",
      "Processing Record 3 of Set 1 | andros\n",
      "Processing Record 4 of Set 1 | abeche\n",
      "Processing Record 5 of Set 1 | somerset east\n",
      "Processing Record 6 of Set 1 | ixtapa\n",
      "Processing Record 7 of Set 1 | tasiilaq\n",
      "Processing Record 8 of Set 1 | cabo san lucas\n",
      "Processing Record 9 of Set 1 | bredasdorp\n",
      "Processing Record 10 of Set 1 | springfield\n",
      "Processing Record 11 of Set 1 | barrow\n",
      "Processing Record 12 of Set 1 | moanda\n",
      "Processing Record 13 of Set 1 | saldanha\n",
      "Processing Record 14 of Set 1 | saint-philippe\n",
      "Processing Record 15 of Set 1 | myrtle beach\n",
      "Processing Record 16 of Set 1 | pushkinskiye gory\n",
      "Processing Record 17 of Set 1 | mullaitivu\n",
      "Processing Record 18 of Set 1 | attawapiskat\n",
      "Processing Record 19 of Set 1 | illoqqortoormiut\n",
      "Processing Record 20 of Set 1 | taolanaro\n",
      "Processing Record 21 of Set 1 | saint george\n",
      "Processing Record 22 of Set 1 | arraial do cabo\n",
      "Processing Record 23 of Set 1 | chuy\n",
      "Processing Record 24 of Set 1 | hanting\n",
      "Processing Record 25 of Set 1 | port lincoln\n",
      "Processing Record 26 of Set 1 | mahebourg\n",
      "Processing Record 27 of Set 1 | chokurdakh\n",
      "Processing Record 28 of Set 1 | rikitea\n",
      "Processing Record 29 of Set 1 | san quintin\n",
      "Processing Record 30 of Set 1 | manokwari\n",
      "Processing Record 31 of Set 1 | albany\n",
      "Processing Record 32 of Set 1 | yellowknife\n",
      "Processing Record 33 of Set 1 | georgetown\n",
      "Processing Record 34 of Set 1 | provideniya\n",
      "Processing Record 35 of Set 1 | kodiak\n",
      "Processing Record 36 of Set 1 | ponta do sol\n",
      "Processing Record 37 of Set 1 | port elizabeth\n",
      "Processing Record 38 of Set 1 | anadyr\n",
      "Processing Record 39 of Set 1 | nizhneyansk\n",
      "Processing Record 40 of Set 1 | hobart\n",
      "Processing Record 41 of Set 1 | beringovskiy\n",
      "Processing Record 42 of Set 1 | thinadhoo\n",
      "Processing Record 43 of Set 1 | bowen\n",
      "Processing Record 44 of Set 1 | cienaga\n",
      "Processing Record 45 of Set 1 | umzimvubu\n",
      "Processing Record 46 of Set 1 | helong\n",
      "Processing Record 47 of Set 1 | namatanai\n",
      "Processing Record 48 of Set 1 | marsa matruh\n",
      "Processing Record 49 of Set 1 | taltal\n",
      "Processing Record 1 of Set 2 | upernavik\n",
      "Processing Record 2 of Set 2 | amderma\n",
      "Processing Record 3 of Set 2 | san marcos\n",
      "Processing Record 4 of Set 2 | guaira\n",
      "Processing Record 5 of Set 2 | lang suan\n",
      "Processing Record 6 of Set 2 | kaitangata\n",
      "Processing Record 7 of Set 2 | vaini\n",
      "Processing Record 8 of Set 2 | tsihombe\n",
      "Processing Record 9 of Set 2 | ambilobe\n",
      "Processing Record 10 of Set 2 | mar del plata\n",
      "Processing Record 11 of Set 2 | burica\n",
      "Processing Record 12 of Set 2 | victoria\n",
      "Processing Record 13 of Set 2 | bud\n",
      "Processing Record 14 of Set 2 | khatanga\n",
      "Processing Record 15 of Set 2 | nabire\n",
      "Processing Record 16 of Set 2 | atuona\n",
      "Processing Record 17 of Set 2 | kushiro\n",
      "Processing Record 18 of Set 2 | lakes entrance\n",
      "Processing Record 19 of Set 2 | buin\n",
      "Processing Record 20 of Set 2 | yumen\n",
      "Processing Record 21 of Set 2 | itarema\n",
      "Processing Record 22 of Set 2 | kavieng\n",
      "Processing Record 23 of Set 2 | zhigansk\n",
      "Processing Record 24 of Set 2 | ushibuka\n",
      "Processing Record 25 of Set 2 | leningradskiy\n",
      "Processing Record 26 of Set 2 | vostok\n",
      "Processing Record 27 of Set 2 | chimbote\n",
      "Processing Record 28 of Set 2 | saskylakh\n",
      "Processing Record 29 of Set 2 | iqaluit\n",
      "Processing Record 30 of Set 2 | lunenburg\n",
      "Processing Record 31 of Set 2 | maniitsoq\n",
      "Processing Record 32 of Set 2 | qaanaaq\n",
      "Processing Record 33 of Set 2 | buala\n",
      "Processing Record 34 of Set 2 | airai\n",
      "Processing Record 35 of Set 2 | klaksvik\n",
      "Processing Record 36 of Set 2 | esperance\n",
      "Processing Record 37 of Set 2 | pechenga\n",
      "Processing Record 38 of Set 2 | hilo\n",
      "Processing Record 39 of Set 2 | paita\n",
      "Processing Record 40 of Set 2 | salalah\n",
      "Processing Record 41 of Set 2 | touros\n",
      "Processing Record 42 of Set 2 | punta arenas\n",
      "Processing Record 43 of Set 2 | hasaki\n",
      "Processing Record 44 of Set 2 | lebu\n",
      "Processing Record 45 of Set 2 | trapani\n",
      "Processing Record 46 of Set 2 | fredericton\n",
      "Processing Record 47 of Set 2 | erzin\n",
      "Processing Record 48 of Set 2 | bilma\n",
      "Processing Record 49 of Set 2 | biak\n",
      "Processing Record 50 of Set 2 | fuerte olimpo\n",
      "Processing Record 1 of Set 3 | bluff\n",
      "Processing Record 2 of Set 3 | streator\n",
      "Processing Record 3 of Set 3 | cockburn town\n",
      "Processing Record 4 of Set 3 | hovd\n",
      "Processing Record 5 of Set 3 | springbok\n",
      "Processing Record 6 of Set 3 | bengkulu\n",
      "Processing Record 7 of Set 3 | san patricio\n",
      "Processing Record 8 of Set 3 | soyo\n",
      "Processing Record 9 of Set 3 | katsuura\n",
      "Processing Record 10 of Set 3 | ta khmau\n",
      "Processing Record 11 of Set 3 | lumphat\n",
      "Processing Record 12 of Set 3 | sangar\n",
      "Processing Record 13 of Set 3 | coffs harbour\n",
      "Processing Record 14 of Set 3 | sitka\n",
      "Processing Record 15 of Set 3 | tiksi\n",
      "Processing Record 16 of Set 3 | pacifica\n",
      "Processing Record 17 of Set 3 | kuito\n",
      "Processing Record 18 of Set 3 | minab\n",
      "Processing Record 19 of Set 3 | mundwa\n",
      "Processing Record 20 of Set 3 | ushuaia\n",
      "Processing Record 21 of Set 3 | tanggu\n",
      "Processing Record 22 of Set 3 | pontianak\n",
      "Processing Record 23 of Set 3 | umm lajj\n",
      "Processing Record 24 of Set 3 | tura\n",
      "Processing Record 25 of Set 3 | khash\n",
      "Processing Record 26 of Set 3 | gorontalo\n",
      "Processing Record 27 of Set 3 | owando\n",
      "Processing Record 28 of Set 3 | sao jose da coroa grande\n",
      "Processing Record 29 of Set 3 | erenhot\n",
      "Processing Record 30 of Set 3 | eravur\n",
      "Processing Record 31 of Set 3 | ketchikan\n",
      "Processing Record 32 of Set 3 | papetoai\n",
      "Processing Record 33 of Set 3 | cape town\n",
      "Processing Record 34 of Set 3 | champerico\n",
      "Processing Record 35 of Set 3 | cayenne\n",
      "Processing Record 36 of Set 3 | butaritari\n",
      "Processing Record 37 of Set 3 | port hardy\n",
      "Processing Record 38 of Set 3 | new norfolk\n",
      "Processing Record 39 of Set 3 | benghazi\n",
      "Processing Record 40 of Set 3 | vaitupu\n",
      "Processing Record 41 of Set 3 | atambua\n",
      "Processing Record 42 of Set 3 | kapaa\n",
      "Processing Record 43 of Set 3 | fortuna\n",
      "Processing Record 44 of Set 3 | moerai\n",
      "Processing Record 45 of Set 3 | farah\n",
      "Processing Record 46 of Set 3 | mufumbwe\n",
      "Processing Record 47 of Set 3 | port hawkesbury\n",
      "Processing Record 48 of Set 3 | olafsvik\n",
      "Processing Record 49 of Set 3 | bethel\n",
      "Processing Record 50 of Set 3 | zhezkazgan\n",
      "Processing Record 1 of Set 4 | tilichiki\n",
      "Processing Record 2 of Set 4 | domanivka\n",
      "Processing Record 3 of Set 4 | cidreira\n",
      "Processing Record 4 of Set 4 | labuhan\n",
      "Processing Record 5 of Set 4 | poso\n",
      "Processing Record 6 of Set 4 | nuuk\n",
      "Processing Record 7 of Set 4 | kedrovyy\n",
      "Processing Record 8 of Set 4 | saint-leu\n",
      "Processing Record 9 of Set 4 | pakxe\n",
      "Processing Record 10 of Set 4 | monduli\n",
      "Processing Record 11 of Set 4 | oistins\n",
      "Processing Record 12 of Set 4 | tarudant\n",
      "Processing Record 13 of Set 4 | avarua\n",
      "Processing Record 14 of Set 4 | roma\n",
      "Processing Record 15 of Set 4 | vanimo\n",
      "Processing Record 16 of Set 4 | russell\n",
      "Processing Record 17 of Set 4 | lima\n",
      "Processing Record 18 of Set 4 | ambodifototra\n",
      "Processing Record 19 of Set 4 | hit\n",
      "Processing Record 20 of Set 4 | codrington\n",
      "Processing Record 21 of Set 4 | arlit\n",
      "Processing Record 22 of Set 4 | lavrentiya\n",
      "Processing Record 23 of Set 4 | busselton\n",
      "Processing Record 24 of Set 4 | angoram\n",
      "Processing Record 25 of Set 4 | juegang\n",
      "Processing Record 26 of Set 4 | barentsburg\n",
      "Processing Record 27 of Set 4 | belushya guba\n",
      "Processing Record 28 of Set 4 | tuy hoa\n",
      "Processing Record 29 of Set 4 | puerto ayora\n",
      "Processing Record 30 of Set 4 | bolshiye chapurniki\n",
      "Processing Record 31 of Set 4 | san cristobal\n",
      "Processing Record 32 of Set 4 | spartanburg\n",
      "Processing Record 33 of Set 4 | souillac\n",
      "Processing Record 34 of Set 4 | hastings\n",
      "Processing Record 35 of Set 4 | poum\n",
      "Processing Record 36 of Set 4 | lichuan\n",
      "Processing Record 37 of Set 4 | balkhash\n",
      "Processing Record 38 of Set 4 | pevek\n",
      "Processing Record 39 of Set 4 | kawalu\n",
      "Processing Record 40 of Set 4 | talnakh\n",
      "Processing Record 41 of Set 4 | luderitz\n",
      "Processing Record 42 of Set 4 | dingle\n",
      "Processing Record 43 of Set 4 | inirida\n",
      "Processing Record 44 of Set 4 | dikson\n",
      "Processing Record 45 of Set 4 | nangomba\n",
      "Processing Record 46 of Set 4 | piuma\n",
      "Processing Record 47 of Set 4 | methoni\n",
      "Processing Record 48 of Set 4 | tarko-sale\n",
      "Processing Record 49 of Set 4 | shimoda\n",
      "Processing Record 50 of Set 4 | harlingen\n"
     ]
    },
    {
     "name": "stdout",
     "output_type": "stream",
     "text": [
      "Processing Record 1 of Set 5 | meridian\n",
      "Processing Record 2 of Set 5 | enshi\n",
      "Processing Record 3 of Set 5 | tigil\n",
      "Processing Record 4 of Set 5 | mbabane\n",
      "Processing Record 5 of Set 5 | hithadhoo\n",
      "Processing Record 6 of Set 5 | nanakuli\n",
      "Processing Record 7 of Set 5 | cairns\n",
      "Processing Record 8 of Set 5 | faya\n",
      "Processing Record 9 of Set 5 | gizo\n",
      "Processing Record 10 of Set 5 | fairbanks\n",
      "Processing Record 11 of Set 5 | koslan\n",
      "Processing Record 12 of Set 5 | surandai\n",
      "Processing Record 13 of Set 5 | hurghada\n",
      "Processing Record 14 of Set 5 | port alfred\n",
      "Processing Record 15 of Set 5 | te anau\n",
      "Processing Record 16 of Set 5 | cabo rojo\n",
      "Processing Record 17 of Set 5 | awbari\n",
      "Processing Record 18 of Set 5 | namibe\n",
      "Processing Record 19 of Set 5 | mys shmidta\n",
      "Processing Record 20 of Set 5 | mahon\n",
      "Processing Record 21 of Set 5 | hermanus\n",
      "Processing Record 22 of Set 5 | east london\n",
      "Processing Record 23 of Set 5 | azimur\n",
      "Processing Record 24 of Set 5 | sioux lookout\n",
      "Processing Record 25 of Set 5 | tukrah\n",
      "Processing Record 26 of Set 5 | inhambane\n",
      "Processing Record 27 of Set 5 | tuktoyaktuk\n",
      "Processing Record 28 of Set 5 | broome\n",
      "Processing Record 29 of Set 5 | yeniseysk\n",
      "Processing Record 30 of Set 5 | hailar\n",
      "Processing Record 31 of Set 5 | narsaq\n",
      "Processing Record 32 of Set 5 | sola\n",
      "Processing Record 33 of Set 5 | rawson\n",
      "Processing Record 34 of Set 5 | ust-bolsheretsk\n",
      "Processing Record 35 of Set 5 | coahuayana\n",
      "Processing Record 36 of Set 5 | half moon bay\n",
      "Processing Record 37 of Set 5 | winslow\n",
      "Processing Record 38 of Set 5 | amapa\n",
      "Processing Record 39 of Set 5 | mao\n",
      "Processing Record 40 of Set 5 | valparaiso\n",
      "Processing Record 41 of Set 5 | pavda\n",
      "Processing Record 42 of Set 5 | los llanos de aridane\n",
      "Processing Record 43 of Set 5 | mawlaik\n",
      "Processing Record 44 of Set 5 | henties bay\n",
      "Processing Record 45 of Set 5 | kloulklubed\n",
      "Processing Record 46 of Set 5 | richmond\n",
      "Processing Record 47 of Set 5 | changping\n",
      "Processing Record 48 of Set 5 | jamestown\n",
      "Processing Record 49 of Set 5 | awjilah\n",
      "Processing Record 50 of Set 5 | aylmer\n",
      "Processing Record 1 of Set 6 | manzil jamil\n",
      "Processing Record 2 of Set 6 | geraldton\n",
      "Processing Record 3 of Set 6 | makakilo city\n",
      "Processing Record 4 of Set 6 | ardistan\n",
      "Processing Record 5 of Set 6 | tsaghkahovit\n",
      "Processing Record 6 of Set 6 | svetlopolyansk\n",
      "Processing Record 7 of Set 6 | galveston\n",
      "Processing Record 8 of Set 6 | west wendover\n",
      "Processing Record 9 of Set 6 | cuiaba\n",
      "Processing Record 10 of Set 6 | rock sound\n",
      "Processing Record 11 of Set 6 | troitskoye\n",
      "Processing Record 12 of Set 6 | alvaraes\n",
      "Processing Record 13 of Set 6 | lagoa\n",
      "Processing Record 14 of Set 6 | xam nua\n",
      "Processing Record 15 of Set 6 | north bend\n",
      "Processing Record 16 of Set 6 | clyde river\n",
      "Processing Record 17 of Set 6 | naze\n",
      "Processing Record 18 of Set 6 | qui nhon\n",
      "Processing Record 19 of Set 6 | adrar\n",
      "Processing Record 20 of Set 6 | carnarvon\n",
      "Processing Record 21 of Set 6 | tecoanapa\n",
      "Processing Record 22 of Set 6 | doume\n",
      "Processing Record 23 of Set 6 | ranong\n",
      "Processing Record 24 of Set 6 | port-cartier\n",
      "Processing Record 25 of Set 6 | faanui\n",
      "Processing Record 26 of Set 6 | kalmunai\n",
      "Processing Record 27 of Set 6 | srednekolymsk\n",
      "Processing Record 28 of Set 6 | bababe\n",
      "Processing Record 29 of Set 6 | mangan\n",
      "Processing Record 30 of Set 6 | sentyabrskiy\n",
      "Processing Record 31 of Set 6 | torbay\n",
      "Processing Record 32 of Set 6 | hofn\n",
      "Processing Record 33 of Set 6 | vardo\n",
      "Processing Record 34 of Set 6 | naples\n",
      "Processing Record 35 of Set 6 | merke\n",
      "Processing Record 36 of Set 6 | moose factory\n",
      "Processing Record 37 of Set 6 | north platte\n",
      "Processing Record 38 of Set 6 | caravelas\n",
      "Processing Record 39 of Set 6 | bam\n",
      "Processing Record 40 of Set 6 | wamba\n",
      "Processing Record 41 of Set 6 | opuwo\n",
      "Processing Record 42 of Set 6 | barzas\n",
      "Processing Record 43 of Set 6 | calabozo\n",
      "Processing Record 44 of Set 6 | kruisfontein\n",
      "Processing Record 45 of Set 6 | auki\n",
      "Processing Record 46 of Set 6 | antalaha\n",
      "Processing Record 47 of Set 6 | raudeberg\n",
      "Processing Record 48 of Set 6 | batagay-alyta\n",
      "Processing Record 49 of Set 6 | talcahuano\n",
      "Processing Record 50 of Set 6 | castro\n",
      "Processing Record 1 of Set 7 | alofi\n",
      "Processing Record 2 of Set 7 | sirfa\n",
      "Processing Record 3 of Set 7 | makung\n",
      "Processing Record 4 of Set 7 | marovoay\n",
      "Processing Record 5 of Set 7 | van buren\n",
      "Processing Record 6 of Set 7 | guerrero negro\n",
      "Processing Record 7 of Set 7 | nara\n",
      "Processing Record 8 of Set 7 | qaqortoq\n",
      "Processing Record 9 of Set 7 | morros\n",
      "Processing Record 10 of Set 7 | rudnogorsk\n",
      "Processing Record 11 of Set 7 | vila velha\n",
      "Processing Record 12 of Set 7 | auce\n",
      "Processing Record 13 of Set 7 | mujiayingzi\n",
      "Processing Record 14 of Set 7 | vestmannaeyjar\n",
      "Processing Record 15 of Set 7 | caibarien\n",
      "Processing Record 16 of Set 7 | grand river south east\n",
      "Processing Record 17 of Set 7 | tonantins\n",
      "Processing Record 18 of Set 7 | aflu\n",
      "Processing Record 19 of Set 7 | gigmoto\n",
      "Processing Record 20 of Set 7 | cherskiy\n",
      "Processing Record 21 of Set 7 | prince rupert\n",
      "Processing Record 22 of Set 7 | mehamn\n",
      "Processing Record 23 of Set 7 | falealupo\n",
      "Processing Record 24 of Set 7 | akyab\n",
      "Processing Record 25 of Set 7 | vila\n",
      "Processing Record 26 of Set 7 | rocha\n",
      "Processing Record 27 of Set 7 | hellin\n",
      "Processing Record 28 of Set 7 | riyadh\n",
      "Processing Record 29 of Set 7 | pimentel\n",
      "Processing Record 30 of Set 7 | tarauaca\n",
      "Processing Record 31 of Set 7 | saint anthony\n",
      "Processing Record 32 of Set 7 | asau\n",
      "Processing Record 33 of Set 7 | songea\n",
      "Processing Record 34 of Set 7 | grindavik\n",
      "Processing Record 35 of Set 7 | nantucket\n",
      "Processing Record 36 of Set 7 | sao joao da barra\n",
      "Processing Record 37 of Set 7 | kismayo\n",
      "Processing Record 38 of Set 7 | wollongong\n",
      "Processing Record 39 of Set 7 | nikolskoye\n",
      "Processing Record 40 of Set 7 | japura\n",
      "Processing Record 41 of Set 7 | la ronge\n",
      "Processing Record 42 of Set 7 | maceio\n",
      "Processing Record 43 of Set 7 | montrose\n",
      "Processing Record 44 of Set 7 | sao gabriel da cachoeira\n",
      "Processing Record 45 of Set 7 | vestbygda\n",
      "Processing Record 46 of Set 7 | marcona\n",
      "Processing Record 47 of Set 7 | santa maria\n",
      "Processing Record 48 of Set 7 | columbia\n",
      "Processing Record 49 of Set 7 | alghero\n",
      "Processing Record 50 of Set 7 | sao filipe\n",
      "Processing Record 1 of Set 8 | lisala\n",
      "Processing Record 2 of Set 8 | ambajogai\n",
      "Processing Record 3 of Set 8 | ust-koksa\n",
      "Processing Record 4 of Set 8 | susanville\n",
      "Processing Record 5 of Set 8 | sur\n",
      "Processing Record 6 of Set 8 | kautokeino\n",
      "Processing Record 7 of Set 8 | senneterre\n",
      "Processing Record 8 of Set 8 | nhulunbuy\n",
      "Processing Record 9 of Set 8 | berndorf\n",
      "Processing Record 10 of Set 8 | qarchi gak\n",
      "Processing Record 11 of Set 8 | kailua\n",
      "Processing Record 12 of Set 8 | xiamen\n",
      "Processing Record 13 of Set 8 | dwarka\n",
      "Processing Record 14 of Set 8 | carevo\n",
      "Processing Record 15 of Set 8 | havoysund\n",
      "Processing Record 16 of Set 8 | tautira\n",
      "Processing Record 17 of Set 8 | el alto\n",
      "Processing Record 18 of Set 8 | ust-tsilma\n",
      "Processing Record 19 of Set 8 | quatis\n",
      "Processing Record 20 of Set 8 | richards bay\n",
      "Processing Record 21 of Set 8 | bathsheba\n",
      "Processing Record 22 of Set 8 | nerchinsk\n",
      "Processing Record 23 of Set 8 | anda\n",
      "Processing Record 24 of Set 8 | aleksandrov gay\n",
      "Processing Record 25 of Set 8 | zeya\n",
      "Processing Record 26 of Set 8 | iona\n",
      "Processing Record 27 of Set 8 | mayo\n",
      "Processing Record 28 of Set 8 | akdepe\n",
      "Processing Record 29 of Set 8 | puerto del rosario\n",
      "Processing Record 30 of Set 8 | celestun\n",
      "Processing Record 31 of Set 8 | araouane\n",
      "Processing Record 32 of Set 8 | roald\n",
      "Processing Record 33 of Set 8 | mount gambier\n",
      "Processing Record 34 of Set 8 | mogadishu\n",
      "Processing Record 35 of Set 8 | vicuna\n",
      "Processing Record 36 of Set 8 | benalla\n",
      "Processing Record 37 of Set 8 | aquiraz\n",
      "Processing Record 38 of Set 8 | aswan\n",
      "Processing Record 39 of Set 8 | gat\n",
      "Processing Record 40 of Set 8 | padang\n",
      "Processing Record 41 of Set 8 | yatou\n",
      "Processing Record 42 of Set 8 | noormarkku\n",
      "Processing Record 43 of Set 8 | nanortalik\n",
      "Processing Record 44 of Set 8 | krasnyy chikoy\n",
      "Processing Record 45 of Set 8 | eirunepe\n",
      "Processing Record 46 of Set 8 | boralday\n",
      "Processing Record 47 of Set 8 | ribeira grande\n",
      "Processing Record 48 of Set 8 | ancud\n",
      "Processing Record 49 of Set 8 | sibu\n",
      "Processing Record 50 of Set 8 | dumai\n"
     ]
    },
    {
     "name": "stdout",
     "output_type": "stream",
     "text": [
      "Processing Record 1 of Set 9 | leeuwarden\n",
      "Processing Record 2 of Set 9 | isla mujeres\n",
      "Processing Record 3 of Set 9 | katherine\n",
      "Processing Record 4 of Set 9 | barberino di mugello\n",
      "Processing Record 5 of Set 9 | vallenar\n",
      "Processing Record 6 of Set 9 | guangyuan\n",
      "Processing Record 7 of Set 9 | yumbe\n",
      "Processing Record 8 of Set 9 | chagda\n",
      "Processing Record 9 of Set 9 | tombouctou\n",
      "Processing Record 10 of Set 9 | sisimiut\n",
      "Processing Record 11 of Set 9 | thompson\n",
      "Processing Record 12 of Set 9 | kandalaksha\n",
      "Processing Record 13 of Set 9 | salisbury\n",
      "Processing Record 14 of Set 9 | acajutla\n",
      "Processing Record 15 of Set 9 | nyurba\n",
      "Processing Record 16 of Set 9 | alyangula\n",
      "Processing Record 17 of Set 9 | bull savanna\n",
      "Processing Record 18 of Set 9 | jiddah\n",
      "Processing Record 19 of Set 9 | mrirt\n",
      "Processing Record 20 of Set 9 | toora-khem\n",
      "Processing Record 21 of Set 9 | hirson\n",
      "Processing Record 22 of Set 9 | banda\n",
      "Processing Record 23 of Set 9 | shirokiy\n",
      "Processing Record 24 of Set 9 | seguela\n",
      "Processing Record 25 of Set 9 | agadez\n",
      "Processing Record 26 of Set 9 | ust-nera\n",
      "Processing Record 27 of Set 9 | nova olimpia\n",
      "Processing Record 28 of Set 9 | cham\n",
      "Processing Record 29 of Set 9 | ust-kamchatsk\n",
      "Processing Record 30 of Set 9 | balabac\n",
      "Processing Record 31 of Set 9 | clinton\n",
      "Processing Record 32 of Set 9 | lubango\n",
      "Processing Record 33 of Set 9 | tuatapere\n",
      "Processing Record 34 of Set 9 | evensk\n",
      "Processing Record 35 of Set 9 | plouzane\n",
      "Processing Record 36 of Set 9 | kendari\n",
      "Processing Record 37 of Set 9 | bambous virieux\n",
      "Processing Record 38 of Set 9 | magnor\n",
      "Processing Record 39 of Set 9 | chimoio\n",
      "Processing Record 40 of Set 9 | constitucion\n",
      "Processing Record 41 of Set 9 | bay roberts\n",
      "Processing Record 42 of Set 9 | vilyuysk\n",
      "Processing Record 43 of Set 9 | hobyo\n",
      "Processing Record 44 of Set 9 | barawe\n",
      "Processing Record 45 of Set 9 | illapel\n",
      "Processing Record 46 of Set 9 | linxia\n",
      "Processing Record 47 of Set 9 | mnogovershinnyy\n",
      "Processing Record 48 of Set 9 | gamarra\n",
      "Processing Record 49 of Set 9 | berlevag\n",
      "Processing Record 50 of Set 9 | vila franca do campo\n",
      "Processing Record 1 of Set 10 | port hedland\n",
      "Processing Record 2 of Set 10 | makaha\n",
      "Processing Record 3 of Set 10 | sorland\n",
      "Processing Record 4 of Set 10 | bulgan\n",
      "Processing Record 5 of Set 10 | flinders\n",
      "Processing Record 6 of Set 10 | kibaya\n",
      "Processing Record 7 of Set 10 | tabiauea\n",
      "Processing Record 8 of Set 10 | vao\n",
      "Processing Record 9 of Set 10 | maldonado\n",
      "Processing Record 10 of Set 10 | gobabis\n",
      "Processing Record 11 of Set 10 | yarkovo\n",
      "Processing Record 12 of Set 10 | brejo\n",
      "Processing Record 13 of Set 10 | west bay\n",
      "Processing Record 14 of Set 10 | saeby\n",
      "Processing Record 15 of Set 10 | bairnsdale\n",
      "Processing Record 16 of Set 10 | severo-kurilsk\n",
      "Processing Record 17 of Set 10 | smithers\n",
      "Processing Record 18 of Set 10 | mahajanga\n",
      "Processing Record 19 of Set 10 | tonota\n",
      "Processing Record 20 of Set 10 | ayan\n",
      "Processing Record 21 of Set 10 | diffa\n",
      "Processing Record 22 of Set 10 | bacolod\n",
      "Processing Record 23 of Set 10 | lompoc\n",
      "Processing Record 24 of Set 10 | gombong\n",
      "Processing Record 25 of Set 10 | honiara\n",
      "Processing Record 26 of Set 10 | kualakapuas\n",
      "Processing Record 27 of Set 10 | amga\n",
      "Processing Record 28 of Set 10 | rafiganj\n",
      "Processing Record 29 of Set 10 | mount vernon\n",
      "Processing Record 30 of Set 10 | alotau\n",
      "Processing Record 31 of Set 10 | phibun mangsahan\n",
      "Processing Record 32 of Set 10 | hamilton\n",
      "Processing Record 33 of Set 10 | norman wells\n",
      "Processing Record 34 of Set 10 | sinnamary\n",
      "Processing Record 35 of Set 10 | grand centre\n",
      "Processing Record 36 of Set 10 | praia\n",
      "Processing Record 37 of Set 10 | ormara\n",
      "Processing Record 38 of Set 10 | strabychovo\n",
      "Processing Record 39 of Set 10 | sain alto\n",
      "Processing Record 40 of Set 10 | ypsonas\n",
      "Processing Record 41 of Set 10 | synya\n",
      "Processing Record 42 of Set 10 | sumkino\n",
      "Processing Record 43 of Set 10 | kortkeros\n",
      "Processing Record 44 of Set 10 | reconquista\n",
      "Processing Record 45 of Set 10 | haapiti\n",
      "Processing Record 46 of Set 10 | port shepstone\n",
      "Processing Record 47 of Set 10 | korla\n",
      "Processing Record 48 of Set 10 | husavik\n",
      "Processing Record 49 of Set 10 | novopavlovka\n",
      "Processing Record 50 of Set 10 | zhangye\n",
      "Processing Record 1 of Set 11 | sibolga\n",
      "Processing Record 2 of Set 11 | olinda\n",
      "Processing Record 3 of Set 11 | palabuhanratu\n",
      "Processing Record 4 of Set 11 | baykit\n",
      "Processing Record 5 of Set 11 | anamur\n",
      "Processing Record 6 of Set 11 | mangai\n",
      "Processing Record 7 of Set 11 | ulverstone\n",
      "Processing Record 8 of Set 11 | nemuro\n",
      "Processing Record 9 of Set 11 | thurso\n",
      "Processing Record 10 of Set 11 | matamoros\n",
      "Processing Record 11 of Set 11 | bogorodskoye\n",
      "Processing Record 12 of Set 11 | ambunti\n",
      "Processing Record 13 of Set 11 | ocampo\n",
      "Processing Record 14 of Set 11 | ahipara\n",
      "Processing Record 15 of Set 11 | grand forks\n",
      "Processing Record 16 of Set 11 | aklavik\n",
      "Processing Record 17 of Set 11 | sterling\n",
      "Processing Record 18 of Set 11 | port blair\n",
      "Processing Record 19 of Set 11 | dicabisagan\n",
      "Processing Record 20 of Set 11 | pisco\n",
      "Processing Record 21 of Set 11 | show low\n",
      "Processing Record 22 of Set 11 | hihifo\n",
      "Processing Record 23 of Set 11 | meybod\n",
      "Processing Record 24 of Set 11 | otukpo\n",
      "Processing Record 25 of Set 11 | termoli\n",
      "Processing Record 26 of Set 11 | sistranda\n",
      "Processing Record 27 of Set 11 | ilulissat\n",
      "Processing Record 28 of Set 11 | okhotsk\n",
      "Processing Record 29 of Set 11 | kinchil\n",
      "Processing Record 30 of Set 11 | samusu\n",
      "Processing Record 31 of Set 11 | slave lake\n",
      "Processing Record 32 of Set 11 | beira\n",
      "Processing Record 33 of Set 11 | milyutinskaya\n",
      "Processing Record 34 of Set 11 | atlantic city\n",
      "Processing Record 35 of Set 11 | tomari\n",
      "Processing Record 36 of Set 11 | kadykchan\n",
      "Processing Record 37 of Set 11 | voznesenye\n",
      "Processing Record 38 of Set 11 | kahului\n",
      "Processing Record 39 of Set 11 | tame\n",
      "Processing Record 40 of Set 11 | saladoblanco\n",
      "Processing Record 41 of Set 11 | kilmez\n",
      "Processing Record 42 of Set 11 | binga\n",
      "Processing Record 43 of Set 11 | nome\n",
      "Processing Record 44 of Set 11 | oyon\n",
      "Processing Record 45 of Set 11 | dortyol\n",
      "Processing Record 46 of Set 11 | ostrovnoy\n",
      "Processing Record 47 of Set 11 | moree\n",
      "Processing Record 48 of Set 11 | guisijan\n",
      "Processing Record 49 of Set 11 | belaya gora\n",
      "Processing Record 50 of Set 11 | petukhovo\n",
      "Processing Record 1 of Set 12 | nishihara\n",
      "Processing Record 2 of Set 12 | ratnagiri\n",
      "Processing Record 3 of Set 12 | kasane\n",
      "Processing Record 4 of Set 12 | west plains\n",
      "Processing Record 5 of Set 12 | zolotinka\n",
      "Processing Record 6 of Set 12 | samarai\n",
      "Processing Record 7 of Set 12 | hanmer springs\n",
      "Processing Record 8 of Set 12 | vendas novas\n",
      "Processing Record 9 of Set 12 | haines junction\n",
      "Processing Record 10 of Set 12 | dunedin\n",
      "Processing Record 11 of Set 12 | leshukonskoye\n",
      "Processing Record 12 of Set 12 | hawera\n",
      "Processing Record 13 of Set 12 | ginda\n",
      "Processing Record 14 of Set 12 | dinguiraye\n",
      "Processing Record 15 of Set 12 | moscow\n",
      "Processing Record 16 of Set 12 | solnechnyy\n",
      "Processing Record 17 of Set 12 | kamina\n",
      "Processing Record 18 of Set 12 | milkovo\n",
      "Processing Record 19 of Set 12 | raduzhnyy\n",
      "Processing Record 20 of Set 12 | nguiu\n",
      "Processing Record 21 of Set 12 | mecca\n",
      "Processing Record 22 of Set 12 | gondanglegi\n",
      "Processing Record 23 of Set 12 | lagunas\n",
      "Processing Record 24 of Set 12 | margate\n",
      "Processing Record 25 of Set 12 | dir\n",
      "Processing Record 26 of Set 12 | batticaloa\n",
      "Processing Record 27 of Set 12 | quatre cocos\n",
      "Processing Record 28 of Set 12 | chinchani\n",
      "Processing Record 29 of Set 12 | rochegda\n",
      "Processing Record 30 of Set 12 | grand gaube\n",
      "Processing Record 31 of Set 12 | chara\n",
      "Processing Record 32 of Set 12 | bosaso\n",
      "Processing Record 33 of Set 12 | colinas\n",
      "Processing Record 34 of Set 12 | ambulu\n",
      "Processing Record 35 of Set 12 | yabrud\n",
      "Processing Record 36 of Set 12 | ceres\n",
      "Processing Record 37 of Set 12 | asyut\n",
      "Processing Record 38 of Set 12 | cutervo\n",
      "Processing Record 39 of Set 12 | gambiran\n",
      "Processing Record 40 of Set 12 | warora\n",
      "Processing Record 41 of Set 12 | obera\n",
      "Processing Record 42 of Set 12 | maniwaki\n",
      "Processing Record 43 of Set 12 | kirkland lake\n",
      "Processing Record 44 of Set 12 | silver city\n",
      "Processing Record 45 of Set 12 | elverum\n",
      "Processing Record 46 of Set 12 | sparks\n",
      "Processing Record 47 of Set 12 | ngukurr\n"
     ]
    },
    {
     "name": "stdout",
     "output_type": "stream",
     "text": [
      "Processing Record 48 of Set 12 | trairi\n",
      "Processing Record 49 of Set 12 | wschowa\n",
      "Processing Record 50 of Set 12 | igarka\n",
      "Processing Record 1 of Set 13 | praia da vitoria\n",
      "Processing Record 2 of Set 13 | ondorhaan\n",
      "Processing Record 3 of Set 13 | montgomery\n",
      "Processing Record 4 of Set 13 | puerto escondido\n",
      "Processing Record 5 of Set 13 | fare\n",
      "Processing Record 6 of Set 13 | xining\n",
      "Processing Record 7 of Set 13 | envira\n",
      "Processing Record 8 of Set 13 | marawi\n",
      "Processing Record 9 of Set 13 | isiro\n",
      "Processing Record 10 of Set 13 | khani\n",
      "Processing Record 11 of Set 13 | rosario\n",
      "Processing Record 12 of Set 13 | dabhol\n",
      "Processing Record 13 of Set 13 | itupiranga\n",
      "Processing Record 14 of Set 13 | taonan\n",
      "Processing Record 15 of Set 13 | isangel\n",
      "Processing Record 16 of Set 13 | charters towers\n",
      "Processing Record 17 of Set 13 | keffi\n",
      "Processing Record 18 of Set 13 | miragoane\n",
      "Processing Record 19 of Set 13 | andenes\n",
      "Processing Record 20 of Set 13 | watsa\n",
      "Processing Record 21 of Set 13 | kamaishi\n",
      "Processing Record 22 of Set 13 | adre\n",
      "Processing Record 23 of Set 13 | ruteng\n",
      "Processing Record 24 of Set 13 | farafangana\n",
      "-----------------------------\n",
      "Data Retrieval Complete\n",
      "-----------------------------\n"
     ]
    }
   ],
   "source": [
    "# print statement\n",
    "print('Beginning Data Retrieval')\n",
    "print('-----------------------------')\n",
    "\n",
    "#establish variables for the record and the set counts\n",
    "record = 1\n",
    "count = 1\n",
    "\n",
    "#start the count and set the range of the count from 0-50\n",
    "for counter, city in enumerate(cities, 1):\n",
    "    if (counter %50==0 and counter >=50):\n",
    "        record = 1 \n",
    "        count += 1\n",
    "    \n",
    "    #pritn statement    \n",
    "    print(f'Processing Record {record} of Set {count} | {city}')\n",
    "   \n",
    "    record += 1\n",
    "\n",
    "    #have to estaablish a try excpet in case there  \n",
    "    try:\n",
    "        query_url = f'{base_url}&q={city}'\n",
    "        response = requests.get(query_url).json()\n",
    "    \n",
    "    #except in case a city is not found in the records. Don't forget to pass!\n",
    "    except:\n",
    "        print(f'City not found. Skipping...')\n",
    "        pass\n",
    "\n",
    "# print statement    \n",
    "print('-----------------------------')\n",
    "print('Data Retrieval Complete')\n",
    "print('-----------------------------')"
   ]
  },
  {
   "cell_type": "code",
   "execution_count": 4,
   "metadata": {},
   "outputs": [
    {
     "data": {
      "text/plain": [
       "{'coord': {'lon': 39.27, 'lat': -15.12},\n",
       " 'weather': [{'id': 801,\n",
       "   'main': 'Clouds',\n",
       "   'description': 'few clouds',\n",
       "   'icon': '02d'}],\n",
       " 'base': 'stations',\n",
       " 'main': {'temp': 62.31,\n",
       "  'feels_like': 62.4,\n",
       "  'temp_min': 62.01,\n",
       "  'temp_max': 62.6,\n",
       "  'pressure': 1022,\n",
       "  'humidity': 93},\n",
       " 'visibility': 10000,\n",
       " 'wind': {'speed': 5.82, 'deg': 210},\n",
       " 'clouds': {'all': 20},\n",
       " 'dt': 1596082939,\n",
       " 'sys': {'type': 1,\n",
       "  'id': 2191,\n",
       "  'country': 'MZ',\n",
       "  'sunrise': 1596080776,\n",
       "  'sunset': 1596121934},\n",
       " 'timezone': 7200,\n",
       " 'id': 1033356,\n",
       " 'name': 'Nampula',\n",
       " 'cod': 200}"
      ]
     },
     "execution_count": 4,
     "metadata": {},
     "output_type": "execute_result"
    }
   ],
   "source": [
    "response"
   ]
  },
  {
   "cell_type": "markdown",
   "metadata": {},
   "source": [
    "### Convert Raw Data to DataFrame\n",
    "* Export the city data into a .csv.\n",
    "* Display the DataFrame"
   ]
  },
  {
   "cell_type": "code",
   "execution_count": 7,
   "metadata": {},
   "outputs": [],
   "source": [
    "name = []         \n",
    "lat = []           \n",
    "lng = []          \n",
    "max_temp = []      \n",
    "humidity = []      \n",
    "cloudiness = []   \n",
    "wind_speed =[]\n",
    "country = []      \n",
    "date = []\n",
    "\n",
    "for city in cities:\n",
    "    \n",
    "    try: \n",
    "        query_url = f'{base_url}&q={city}'\n",
    "        response = requests.get(query_url).json()\n",
    "        name.append(response['name'])\n",
    "        lat.append(response['coord']['lat'])\n",
    "        lng.append(response['coord']['lon'])\n",
    "        max_temp.append(response['main']['temp_max'])\n",
    "        humidity.append(response['main']['humidity'])\n",
    "        cloudiness.append(response['clouds']['all'])\n",
    "        wind_speed.append(response['wind']['speed'])\n",
    "        country.append(response['sys']['country'])\n",
    "        date.append(response['dt'])\n",
    "    \n",
    "    except:\n",
    "        pass"
   ]
  },
  {
   "cell_type": "code",
   "execution_count": 8,
   "metadata": {},
   "outputs": [
    {
     "data": {
      "text/plain": [
       "City          575\n",
       "Lat           575\n",
       "Lng           575\n",
       "Max Temp      575\n",
       "Humidity      575\n",
       "Cloudiness    575\n",
       "Wind Speed    575\n",
       "Country       575\n",
       "Date          575\n",
       "dtype: int64"
      ]
     },
     "execution_count": 8,
     "metadata": {},
     "output_type": "execute_result"
    }
   ],
   "source": [
    "city_dict = {\"City\" : name,\n",
    "                \"Lat\" : lat,\n",
    "                \"Lng\" : lng,\n",
    "                \"Max Temp\" : max_temp,\n",
    "                \"Humidity\" : humidity,\n",
    "                \"Cloudiness\" : cloudiness,\n",
    "                \"Wind Speed\" : wind_speed,\n",
    "                \"Country\" : country,\n",
    "                \"Date\" : date}\n",
    "\n",
    "pd.DataFrame(city_dict).count()"
   ]
  },
  {
   "cell_type": "code",
   "execution_count": 9,
   "metadata": {},
   "outputs": [
    {
     "data": {
      "text/html": [
       "<div>\n",
       "<style scoped>\n",
       "    .dataframe tbody tr th:only-of-type {\n",
       "        vertical-align: middle;\n",
       "    }\n",
       "\n",
       "    .dataframe tbody tr th {\n",
       "        vertical-align: top;\n",
       "    }\n",
       "\n",
       "    .dataframe thead th {\n",
       "        text-align: right;\n",
       "    }\n",
       "</style>\n",
       "<table border=\"1\" class=\"dataframe\">\n",
       "  <thead>\n",
       "    <tr style=\"text-align: right;\">\n",
       "      <th></th>\n",
       "      <th>City</th>\n",
       "      <th>Lat</th>\n",
       "      <th>Lng</th>\n",
       "      <th>Max Temp</th>\n",
       "      <th>Humidity</th>\n",
       "      <th>Cloudiness</th>\n",
       "      <th>Wind Speed</th>\n",
       "      <th>Country</th>\n",
       "      <th>Date</th>\n",
       "    </tr>\n",
       "  </thead>\n",
       "  <tbody>\n",
       "    <tr>\n",
       "      <th>0</th>\n",
       "      <td>Hualmay</td>\n",
       "      <td>-11.10</td>\n",
       "      <td>-77.61</td>\n",
       "      <td>60.93</td>\n",
       "      <td>80</td>\n",
       "      <td>5</td>\n",
       "      <td>6.02</td>\n",
       "      <td>PE</td>\n",
       "      <td>1596153887</td>\n",
       "    </tr>\n",
       "    <tr>\n",
       "      <th>1</th>\n",
       "      <td>Mataura</td>\n",
       "      <td>-46.19</td>\n",
       "      <td>168.86</td>\n",
       "      <td>51.80</td>\n",
       "      <td>79</td>\n",
       "      <td>100</td>\n",
       "      <td>1.86</td>\n",
       "      <td>NZ</td>\n",
       "      <td>1596153887</td>\n",
       "    </tr>\n",
       "    <tr>\n",
       "      <th>2</th>\n",
       "      <td>Andros</td>\n",
       "      <td>37.83</td>\n",
       "      <td>24.93</td>\n",
       "      <td>82.00</td>\n",
       "      <td>46</td>\n",
       "      <td>0</td>\n",
       "      <td>11.99</td>\n",
       "      <td>GR</td>\n",
       "      <td>1596153887</td>\n",
       "    </tr>\n",
       "    <tr>\n",
       "      <th>3</th>\n",
       "      <td>Abéché</td>\n",
       "      <td>13.83</td>\n",
       "      <td>20.83</td>\n",
       "      <td>78.24</td>\n",
       "      <td>73</td>\n",
       "      <td>97</td>\n",
       "      <td>6.60</td>\n",
       "      <td>TD</td>\n",
       "      <td>1596153887</td>\n",
       "    </tr>\n",
       "    <tr>\n",
       "      <th>4</th>\n",
       "      <td>Somerset East</td>\n",
       "      <td>-32.72</td>\n",
       "      <td>25.59</td>\n",
       "      <td>46.38</td>\n",
       "      <td>57</td>\n",
       "      <td>0</td>\n",
       "      <td>3.00</td>\n",
       "      <td>ZA</td>\n",
       "      <td>1596153888</td>\n",
       "    </tr>\n",
       "  </tbody>\n",
       "</table>\n",
       "</div>"
      ],
      "text/plain": [
       "            City    Lat     Lng  Max Temp  Humidity  Cloudiness  Wind Speed  \\\n",
       "0        Hualmay -11.10  -77.61     60.93        80           5        6.02   \n",
       "1        Mataura -46.19  168.86     51.80        79         100        1.86   \n",
       "2         Andros  37.83   24.93     82.00        46           0       11.99   \n",
       "3         Abéché  13.83   20.83     78.24        73          97        6.60   \n",
       "4  Somerset East -32.72   25.59     46.38        57           0        3.00   \n",
       "\n",
       "  Country        Date  \n",
       "0      PE  1596153887  \n",
       "1      NZ  1596153887  \n",
       "2      GR  1596153887  \n",
       "3      TD  1596153887  \n",
       "4      ZA  1596153888  "
      ]
     },
     "execution_count": 9,
     "metadata": {},
     "output_type": "execute_result"
    }
   ],
   "source": [
    "city_data = pd.DataFrame(city_dict)\n",
    "city_data.head()"
   ]
  },
  {
   "cell_type": "markdown",
   "metadata": {},
   "source": [
    "## Inspect the data and remove the cities where the humidity > 100%.\n",
    "----\n",
    "Skip this step if there are no cities that have humidity > 100%. "
   ]
  },
  {
   "cell_type": "code",
   "execution_count": 38,
   "metadata": {},
   "outputs": [
    {
     "data": {
      "text/plain": [
       "City          550\n",
       "Lat           550\n",
       "Lng           550\n",
       "Max Temp      550\n",
       "Humidity      550\n",
       "Cloudiness    550\n",
       "Wind Speed    550\n",
       "Country       550\n",
       "Date          550\n",
       "dtype: int64"
      ]
     },
     "execution_count": 38,
     "metadata": {},
     "output_type": "execute_result"
    }
   ],
   "source": [
    "humidity_df = city_data.loc[(city_data['Humidity'] < 100)]\n",
    "humidity_df.count()"
   ]
  },
  {
   "cell_type": "code",
   "execution_count": 39,
   "metadata": {},
   "outputs": [
    {
     "data": {
      "text/html": [
       "<div>\n",
       "<style scoped>\n",
       "    .dataframe tbody tr th:only-of-type {\n",
       "        vertical-align: middle;\n",
       "    }\n",
       "\n",
       "    .dataframe tbody tr th {\n",
       "        vertical-align: top;\n",
       "    }\n",
       "\n",
       "    .dataframe thead th {\n",
       "        text-align: right;\n",
       "    }\n",
       "</style>\n",
       "<table border=\"1\" class=\"dataframe\">\n",
       "  <thead>\n",
       "    <tr style=\"text-align: right;\">\n",
       "      <th></th>\n",
       "      <th>Lat</th>\n",
       "      <th>Lng</th>\n",
       "      <th>Max Temp</th>\n",
       "      <th>Humidity</th>\n",
       "      <th>Cloudiness</th>\n",
       "      <th>Wind Speed</th>\n",
       "      <th>Date</th>\n",
       "    </tr>\n",
       "  </thead>\n",
       "  <tbody>\n",
       "    <tr>\n",
       "      <th>count</th>\n",
       "      <td>550.000000</td>\n",
       "      <td>550.000000</td>\n",
       "      <td>550.000000</td>\n",
       "      <td>550.000000</td>\n",
       "      <td>550.000000</td>\n",
       "      <td>550.000000</td>\n",
       "      <td>5.500000e+02</td>\n",
       "    </tr>\n",
       "    <tr>\n",
       "      <th>mean</th>\n",
       "      <td>18.745527</td>\n",
       "      <td>17.330636</td>\n",
       "      <td>68.969327</td>\n",
       "      <td>70.667273</td>\n",
       "      <td>45.876364</td>\n",
       "      <td>7.425782</td>\n",
       "      <td>1.596083e+09</td>\n",
       "    </tr>\n",
       "    <tr>\n",
       "      <th>std</th>\n",
       "      <td>33.494787</td>\n",
       "      <td>89.938772</td>\n",
       "      <td>13.718621</td>\n",
       "      <td>19.087952</td>\n",
       "      <td>38.280044</td>\n",
       "      <td>4.975248</td>\n",
       "      <td>7.582993e+01</td>\n",
       "    </tr>\n",
       "    <tr>\n",
       "      <th>min</th>\n",
       "      <td>-54.800000</td>\n",
       "      <td>-179.170000</td>\n",
       "      <td>30.200000</td>\n",
       "      <td>1.000000</td>\n",
       "      <td>0.000000</td>\n",
       "      <td>0.360000</td>\n",
       "      <td>1.596083e+09</td>\n",
       "    </tr>\n",
       "    <tr>\n",
       "      <th>25%</th>\n",
       "      <td>-9.742500</td>\n",
       "      <td>-60.497500</td>\n",
       "      <td>59.000000</td>\n",
       "      <td>58.000000</td>\n",
       "      <td>3.000000</td>\n",
       "      <td>3.490000</td>\n",
       "      <td>1.596083e+09</td>\n",
       "    </tr>\n",
       "    <tr>\n",
       "      <th>50%</th>\n",
       "      <td>21.465000</td>\n",
       "      <td>24.080000</td>\n",
       "      <td>71.090000</td>\n",
       "      <td>74.000000</td>\n",
       "      <td>40.000000</td>\n",
       "      <td>6.310000</td>\n",
       "      <td>1.596083e+09</td>\n",
       "    </tr>\n",
       "    <tr>\n",
       "      <th>75%</th>\n",
       "      <td>47.492500</td>\n",
       "      <td>92.490000</td>\n",
       "      <td>79.520000</td>\n",
       "      <td>85.000000</td>\n",
       "      <td>83.000000</td>\n",
       "      <td>10.000000</td>\n",
       "      <td>1.596083e+09</td>\n",
       "    </tr>\n",
       "    <tr>\n",
       "      <th>max</th>\n",
       "      <td>78.220000</td>\n",
       "      <td>179.320000</td>\n",
       "      <td>100.990000</td>\n",
       "      <td>100.000000</td>\n",
       "      <td>100.000000</td>\n",
       "      <td>28.480000</td>\n",
       "      <td>1.596083e+09</td>\n",
       "    </tr>\n",
       "  </tbody>\n",
       "</table>\n",
       "</div>"
      ],
      "text/plain": [
       "              Lat         Lng    Max Temp    Humidity  Cloudiness  Wind Speed  \\\n",
       "count  550.000000  550.000000  550.000000  550.000000  550.000000  550.000000   \n",
       "mean    18.745527   17.330636   68.969327   70.667273   45.876364    7.425782   \n",
       "std     33.494787   89.938772   13.718621   19.087952   38.280044    4.975248   \n",
       "min    -54.800000 -179.170000   30.200000    1.000000    0.000000    0.360000   \n",
       "25%     -9.742500  -60.497500   59.000000   58.000000    3.000000    3.490000   \n",
       "50%     21.465000   24.080000   71.090000   74.000000   40.000000    6.310000   \n",
       "75%     47.492500   92.490000   79.520000   85.000000   83.000000   10.000000   \n",
       "max     78.220000  179.320000  100.990000  100.000000  100.000000   28.480000   \n",
       "\n",
       "               Date  \n",
       "count  5.500000e+02  \n",
       "mean   1.596083e+09  \n",
       "std    7.582993e+01  \n",
       "min    1.596083e+09  \n",
       "25%    1.596083e+09  \n",
       "50%    1.596083e+09  \n",
       "75%    1.596083e+09  \n",
       "max    1.596083e+09  "
      ]
     },
     "execution_count": 39,
     "metadata": {},
     "output_type": "execute_result"
    }
   ],
   "source": [
    "humidity_df.describe()"
   ]
  },
  {
   "cell_type": "code",
   "execution_count": 40,
   "metadata": {},
   "outputs": [
    {
     "data": {
      "text/plain": [
       "Int64Index([], dtype='int64')"
      ]
     },
     "execution_count": 40,
     "metadata": {},
     "output_type": "execute_result"
    }
   ],
   "source": [
    "#  Get the indices of cities that have humidity over 100%.\n",
    "city_data[city_data['Humidity'] > 100].index    "
   ]
  },
  {
   "cell_type": "code",
   "execution_count": null,
   "metadata": {},
   "outputs": [],
   "source": []
  },
  {
   "cell_type": "code",
   "execution_count": 8,
   "metadata": {},
   "outputs": [
    {
     "data": {
      "text/html": [
       "<div>\n",
       "<style scoped>\n",
       "    .dataframe tbody tr th:only-of-type {\n",
       "        vertical-align: middle;\n",
       "    }\n",
       "\n",
       "    .dataframe tbody tr th {\n",
       "        vertical-align: top;\n",
       "    }\n",
       "\n",
       "    .dataframe thead th {\n",
       "        text-align: right;\n",
       "    }\n",
       "</style>\n",
       "<table border=\"1\" class=\"dataframe\">\n",
       "  <thead>\n",
       "    <tr style=\"text-align: right;\">\n",
       "      <th></th>\n",
       "      <th>City</th>\n",
       "      <th>Lat</th>\n",
       "      <th>Lng</th>\n",
       "      <th>Max Temp</th>\n",
       "      <th>Humidity</th>\n",
       "      <th>Cloudiness</th>\n",
       "      <th>Wind Speed</th>\n",
       "      <th>Country</th>\n",
       "      <th>Date</th>\n",
       "    </tr>\n",
       "  </thead>\n",
       "  <tbody>\n",
       "    <tr>\n",
       "      <th>0</th>\n",
       "      <td>pimentel</td>\n",
       "      <td>-6.84</td>\n",
       "      <td>-79.93</td>\n",
       "      <td>66.20</td>\n",
       "      <td>29</td>\n",
       "      <td>75</td>\n",
       "      <td>5.82</td>\n",
       "      <td>PE</td>\n",
       "      <td>1585764415</td>\n",
       "    </tr>\n",
       "    <tr>\n",
       "      <th>1</th>\n",
       "      <td>victoria</td>\n",
       "      <td>22.29</td>\n",
       "      <td>114.16</td>\n",
       "      <td>69.01</td>\n",
       "      <td>88</td>\n",
       "      <td>40</td>\n",
       "      <td>18.34</td>\n",
       "      <td>HK</td>\n",
       "      <td>1585764288</td>\n",
       "    </tr>\n",
       "    <tr>\n",
       "      <th>2</th>\n",
       "      <td>padang</td>\n",
       "      <td>-0.95</td>\n",
       "      <td>100.35</td>\n",
       "      <td>79.90</td>\n",
       "      <td>75</td>\n",
       "      <td>99</td>\n",
       "      <td>1.63</td>\n",
       "      <td>ID</td>\n",
       "      <td>1585764115</td>\n",
       "    </tr>\n",
       "    <tr>\n",
       "      <th>3</th>\n",
       "      <td>hasaki</td>\n",
       "      <td>35.73</td>\n",
       "      <td>140.83</td>\n",
       "      <td>55.00</td>\n",
       "      <td>100</td>\n",
       "      <td>75</td>\n",
       "      <td>4.70</td>\n",
       "      <td>JP</td>\n",
       "      <td>1585764415</td>\n",
       "    </tr>\n",
       "    <tr>\n",
       "      <th>4</th>\n",
       "      <td>kahului</td>\n",
       "      <td>20.89</td>\n",
       "      <td>-156.47</td>\n",
       "      <td>70.00</td>\n",
       "      <td>88</td>\n",
       "      <td>1</td>\n",
       "      <td>7.63</td>\n",
       "      <td>US</td>\n",
       "      <td>1585764415</td>\n",
       "    </tr>\n",
       "  </tbody>\n",
       "</table>\n",
       "</div>"
      ],
      "text/plain": [
       "       City    Lat     Lng  Max Temp  Humidity  Cloudiness  Wind Speed  \\\n",
       "0  pimentel  -6.84  -79.93     66.20        29          75        5.82   \n",
       "1  victoria  22.29  114.16     69.01        88          40       18.34   \n",
       "2    padang  -0.95  100.35     79.90        75          99        1.63   \n",
       "3    hasaki  35.73  140.83     55.00       100          75        4.70   \n",
       "4   kahului  20.89 -156.47     70.00        88           1        7.63   \n",
       "\n",
       "  Country        Date  \n",
       "0      PE  1585764415  \n",
       "1      HK  1585764288  \n",
       "2      ID  1585764115  \n",
       "3      JP  1585764415  \n",
       "4      US  1585764415  "
      ]
     },
     "execution_count": 8,
     "metadata": {},
     "output_type": "execute_result"
    }
   ],
   "source": [
    "# Make a new DataFrame equal to the city data to drop all humidity outliers by index.\n",
    "# Passing \"inplace=False\" will make a copy of the city_data DataFrame, which we call \"clean_city_data\".\n"
   ]
  },
  {
   "cell_type": "code",
   "execution_count": 43,
   "metadata": {},
   "outputs": [],
   "source": [
    "# Extract relevant fields from the data frame\n",
    "\n",
    "\n",
    "# Export the City_Data into a csv\n",
    "city_data.to_csv('../output_data/cities.csv')"
   ]
  },
  {
   "cell_type": "markdown",
   "metadata": {},
   "source": [
    "## Plotting the Data\n",
    "* Use proper labeling of the plots using plot titles (including date of analysis) and axes labels.\n",
    "* Save the plotted figures as .pngs."
   ]
  },
  {
   "cell_type": "markdown",
   "metadata": {},
   "source": [
    "## Latitude vs. Temperature Plot"
   ]
  },
  {
   "cell_type": "code",
   "execution_count": 33,
   "metadata": {},
   "outputs": [
    {
     "data": {
      "image/png": "[encoded data removed]",
      "text/plain": [
       "<Figure size 432x288 with 1 Axes>"
      ]
     },
     "metadata": {
      "needs_background": "light"
     },
     "output_type": "display_data"
    }
   ],
   "source": [
    "plt.scatter(city_data['Lat'], city_data['Max Temp'], alpha = 0.5, edgecolors = 'black')\n",
    "\n",
    "plt.title('City Lattitude vs. Max Temperature (07/30/2020)')\n",
    "plt.xlabel('Lattitude')\n",
    "plt.ylabel('Max Temperature (F)')\n",
    "plt.grid()\n",
    "plt.savefig('../output_data/1. Lat_vs_Maxtemp.png')\n",
    "plt.show()"
   ]
  },
  {
   "cell_type": "markdown",
   "metadata": {},
   "source": [
    "## Latitude vs. Humidity Plot"
   ]
  },
  {
   "cell_type": "code",
   "execution_count": 34,
   "metadata": {},
   "outputs": [
    {
     "data": {
      "image/png": "[encoded data removed]",
      "text/plain": [
       "<Figure size 432x288 with 1 Axes>"
      ]
     },
     "metadata": {
      "needs_background": "light"
     },
     "output_type": "display_data"
    }
   ],
   "source": [
    "plt.scatter(city_data['Lat'], city_data['Humidity'], alpha = 0.5, edgecolors = 'black')\n",
    "\n",
    "plt.title('City Lattitude vs. Humidity (07/30/2020)')\n",
    "plt.xlabel('Lattitude')\n",
    "plt.ylabel('Humidity (%)')\n",
    "plt.grid()\n",
    "plt.savefig('../output_data/2. Lat_vs_Humidity.png')\n",
    "plt.show()"
   ]
  },
  {
   "cell_type": "markdown",
   "metadata": {},
   "source": [
    "## Latitude vs. Cloudiness Plot"
   ]
  },
  {
   "cell_type": "code",
   "execution_count": 35,
   "metadata": {},
   "outputs": [
    {
     "data": {
      "image/png": "[encoded data removed]",
      "text/plain": [
       "<Figure size 432x288 with 1 Axes>"
      ]
     },
     "metadata": {
      "needs_background": "light"
     },
     "output_type": "display_data"
    }
   ],
   "source": [
    "plt.scatter(city_data['Lat'], city_data['Cloudiness'], alpha = 0.5, edgecolors = 'black')\n",
    "\n",
    "plt.title('City Lattitude vs. Cloudiness (07/30/2020)')\n",
    "plt.xlabel('Lattitude')\n",
    "plt.ylabel('Cloudiness (%)')\n",
    "plt.grid()\n",
    "plt.savefig('../output_data/3. Lat_vs_Cloudiness.png')\n",
    "plt.show()"
   ]
  },
  {
   "cell_type": "markdown",
   "metadata": {},
   "source": [
    "## Latitude vs. Wind Speed Plot"
   ]
  },
  {
   "cell_type": "code",
   "execution_count": 60,
   "metadata": {},
   "outputs": [
    {
     "data": {
      "image/png": "[encoded data removed]",
      "text/plain": [
       "<Figure size 432x288 with 1 Axes>"
      ]
     },
     "metadata": {
      "needs_background": "light"
     },
     "output_type": "display_data"
    }
   ],
   "source": [
    "plt.scatter(city_data['Lat'], city_data['Wind Speed'], alpha = 0.5, edgecolors = 'black')\n",
    "\n",
    "plt.title('City Lattitude vs. Wind Speed (07/30/2020)')\n",
    "plt.xlabel('Lattitude')\n",
    "plt.ylabel('Wind Speed (mph)')\n",
    "plt.grid()\n",
    "plt.savefig('../output_data/4. Lat_vs_Wind Speed.png')\n",
    "plt.show()"
   ]
  },
  {
   "cell_type": "markdown",
   "metadata": {},
   "source": [
    "## Linear Regression"
   ]
  },
  {
   "cell_type": "code",
   "execution_count": 14,
   "metadata": {},
   "outputs": [],
   "source": [
    "# OPTIONAL: Create a function to create Linear Regression plots"
   ]
  },
  {
   "cell_type": "code",
   "execution_count": 39,
   "metadata": {},
   "outputs": [
    {
     "data": {
      "text/html": [
       "<div>\n",
       "<style scoped>\n",
       "    .dataframe tbody tr th:only-of-type {\n",
       "        vertical-align: middle;\n",
       "    }\n",
       "\n",
       "    .dataframe tbody tr th {\n",
       "        vertical-align: top;\n",
       "    }\n",
       "\n",
       "    .dataframe thead th {\n",
       "        text-align: right;\n",
       "    }\n",
       "</style>\n",
       "<table border=\"1\" class=\"dataframe\">\n",
       "  <thead>\n",
       "    <tr style=\"text-align: right;\">\n",
       "      <th></th>\n",
       "      <th>City</th>\n",
       "      <th>Lat</th>\n",
       "      <th>Lng</th>\n",
       "      <th>Max Temp</th>\n",
       "      <th>Humidity</th>\n",
       "      <th>Cloudiness</th>\n",
       "      <th>Wind Speed</th>\n",
       "      <th>Country</th>\n",
       "      <th>Date</th>\n",
       "    </tr>\n",
       "  </thead>\n",
       "  <tbody>\n",
       "    <tr>\n",
       "      <th>2</th>\n",
       "      <td>Andros</td>\n",
       "      <td>37.83</td>\n",
       "      <td>24.93</td>\n",
       "      <td>82.00</td>\n",
       "      <td>46</td>\n",
       "      <td>0</td>\n",
       "      <td>11.99</td>\n",
       "      <td>GR</td>\n",
       "      <td>01/01/70</td>\n",
       "    </tr>\n",
       "    <tr>\n",
       "      <th>3</th>\n",
       "      <td>Abéché</td>\n",
       "      <td>13.83</td>\n",
       "      <td>20.83</td>\n",
       "      <td>78.24</td>\n",
       "      <td>73</td>\n",
       "      <td>97</td>\n",
       "      <td>6.60</td>\n",
       "      <td>TD</td>\n",
       "      <td>01/01/70</td>\n",
       "    </tr>\n",
       "    <tr>\n",
       "      <th>5</th>\n",
       "      <td>Ixtapa</td>\n",
       "      <td>20.70</td>\n",
       "      <td>-105.20</td>\n",
       "      <td>82.00</td>\n",
       "      <td>94</td>\n",
       "      <td>90</td>\n",
       "      <td>9.17</td>\n",
       "      <td>MX</td>\n",
       "      <td>01/01/70</td>\n",
       "    </tr>\n",
       "    <tr>\n",
       "      <th>6</th>\n",
       "      <td>Tasiilaq</td>\n",
       "      <td>65.61</td>\n",
       "      <td>-37.64</td>\n",
       "      <td>46.40</td>\n",
       "      <td>65</td>\n",
       "      <td>96</td>\n",
       "      <td>1.66</td>\n",
       "      <td>GL</td>\n",
       "      <td>01/01/70</td>\n",
       "    </tr>\n",
       "    <tr>\n",
       "      <th>7</th>\n",
       "      <td>Cabo San Lucas</td>\n",
       "      <td>22.89</td>\n",
       "      <td>-109.91</td>\n",
       "      <td>91.40</td>\n",
       "      <td>54</td>\n",
       "      <td>5</td>\n",
       "      <td>13.87</td>\n",
       "      <td>MX</td>\n",
       "      <td>01/01/70</td>\n",
       "    </tr>\n",
       "  </tbody>\n",
       "</table>\n",
       "</div>"
      ],
      "text/plain": [
       "             City    Lat     Lng  Max Temp  Humidity  Cloudiness  Wind Speed  \\\n",
       "2          Andros  37.83   24.93     82.00        46           0       11.99   \n",
       "3          Abéché  13.83   20.83     78.24        73          97        6.60   \n",
       "5          Ixtapa  20.70 -105.20     82.00        94          90        9.17   \n",
       "6        Tasiilaq  65.61  -37.64     46.40        65          96        1.66   \n",
       "7  Cabo San Lucas  22.89 -109.91     91.40        54           5       13.87   \n",
       "\n",
       "  Country      Date  \n",
       "2      GR  01/01/70  \n",
       "3      TD  01/01/70  \n",
       "5      MX  01/01/70  \n",
       "6      GL  01/01/70  \n",
       "7      MX  01/01/70  "
      ]
     },
     "execution_count": 39,
     "metadata": {},
     "output_type": "execute_result"
    }
   ],
   "source": [
    "# Create Northern Hemisphere DataFrames\n",
    "northern_df = city_data.loc[(city_data['Lat'] >= 0)]\n",
    "northern_df.head()"
   ]
  },
  {
   "cell_type": "code",
   "execution_count": 40,
   "metadata": {},
   "outputs": [
    {
     "data": {
      "text/html": [
       "<div>\n",
       "<style scoped>\n",
       "    .dataframe tbody tr th:only-of-type {\n",
       "        vertical-align: middle;\n",
       "    }\n",
       "\n",
       "    .dataframe tbody tr th {\n",
       "        vertical-align: top;\n",
       "    }\n",
       "\n",
       "    .dataframe thead th {\n",
       "        text-align: right;\n",
       "    }\n",
       "</style>\n",
       "<table border=\"1\" class=\"dataframe\">\n",
       "  <thead>\n",
       "    <tr style=\"text-align: right;\">\n",
       "      <th></th>\n",
       "      <th>City</th>\n",
       "      <th>Lat</th>\n",
       "      <th>Lng</th>\n",
       "      <th>Max Temp</th>\n",
       "      <th>Humidity</th>\n",
       "      <th>Cloudiness</th>\n",
       "      <th>Wind Speed</th>\n",
       "      <th>Country</th>\n",
       "      <th>Date</th>\n",
       "    </tr>\n",
       "  </thead>\n",
       "  <tbody>\n",
       "    <tr>\n",
       "      <th>0</th>\n",
       "      <td>Hualmay</td>\n",
       "      <td>-11.10</td>\n",
       "      <td>-77.61</td>\n",
       "      <td>60.93</td>\n",
       "      <td>80</td>\n",
       "      <td>5</td>\n",
       "      <td>6.02</td>\n",
       "      <td>PE</td>\n",
       "      <td>01/01/70</td>\n",
       "    </tr>\n",
       "    <tr>\n",
       "      <th>1</th>\n",
       "      <td>Mataura</td>\n",
       "      <td>-46.19</td>\n",
       "      <td>168.86</td>\n",
       "      <td>51.80</td>\n",
       "      <td>79</td>\n",
       "      <td>100</td>\n",
       "      <td>1.86</td>\n",
       "      <td>NZ</td>\n",
       "      <td>01/01/70</td>\n",
       "    </tr>\n",
       "    <tr>\n",
       "      <th>4</th>\n",
       "      <td>Somerset East</td>\n",
       "      <td>-32.72</td>\n",
       "      <td>25.59</td>\n",
       "      <td>46.38</td>\n",
       "      <td>57</td>\n",
       "      <td>0</td>\n",
       "      <td>3.00</td>\n",
       "      <td>ZA</td>\n",
       "      <td>01/01/70</td>\n",
       "    </tr>\n",
       "    <tr>\n",
       "      <th>8</th>\n",
       "      <td>Bredasdorp</td>\n",
       "      <td>-34.53</td>\n",
       "      <td>20.04</td>\n",
       "      <td>46.40</td>\n",
       "      <td>93</td>\n",
       "      <td>0</td>\n",
       "      <td>5.82</td>\n",
       "      <td>ZA</td>\n",
       "      <td>01/01/70</td>\n",
       "    </tr>\n",
       "    <tr>\n",
       "      <th>11</th>\n",
       "      <td>Moanda</td>\n",
       "      <td>-1.56</td>\n",
       "      <td>13.22</td>\n",
       "      <td>73.98</td>\n",
       "      <td>70</td>\n",
       "      <td>61</td>\n",
       "      <td>2.66</td>\n",
       "      <td>GA</td>\n",
       "      <td>01/01/70</td>\n",
       "    </tr>\n",
       "  </tbody>\n",
       "</table>\n",
       "</div>"
      ],
      "text/plain": [
       "             City    Lat     Lng  Max Temp  Humidity  Cloudiness  Wind Speed  \\\n",
       "0         Hualmay -11.10  -77.61     60.93        80           5        6.02   \n",
       "1         Mataura -46.19  168.86     51.80        79         100        1.86   \n",
       "4   Somerset East -32.72   25.59     46.38        57           0        3.00   \n",
       "8      Bredasdorp -34.53   20.04     46.40        93           0        5.82   \n",
       "11         Moanda  -1.56   13.22     73.98        70          61        2.66   \n",
       "\n",
       "   Country      Date  \n",
       "0       PE  01/01/70  \n",
       "1       NZ  01/01/70  \n",
       "4       ZA  01/01/70  \n",
       "8       ZA  01/01/70  \n",
       "11      GA  01/01/70  "
      ]
     },
     "execution_count": 40,
     "metadata": {},
     "output_type": "execute_result"
    }
   ],
   "source": [
    "# Create Southern Hemisphere DataFrames\n",
    "southern_df = city_data.loc[(city_data['Lat'] < 0)]\n",
    "southern_df.head()"
   ]
  },
  {
   "cell_type": "markdown",
   "metadata": {},
   "source": [
    "####  Northern Hemisphere - Max Temp vs. Latitude Linear Regression"
   ]
  },
  {
   "cell_type": "code",
   "execution_count": 55,
   "metadata": {},
   "outputs": [
    {
     "name": "stdout",
     "output_type": "stream",
     "text": [
      "The r-squared is: 0.4720644828216765\n"
     ]
    },
    {
     "data": {
      "image/png": "[encoded data removed]",
      "text/plain": [
       "<Figure size 432x288 with 1 Axes>"
      ]
     },
     "metadata": {
      "needs_background": "light"
     },
     "output_type": "display_data"
    }
   ],
   "source": [
    "x_values = northern_df['Lat']\n",
    "y_values =  northern_df['Max Temp']\n",
    "\n",
    "(slope, intercept, rvalue, pvalue, stderr) = linregress(x_values, y_values)\n",
    "regress_values = x_values * slope + intercept\n",
    "line_eq = \"y = \" + str(round(slope,2)) + \"x + \" + str(round(intercept,2))\n",
    "\n",
    "plt.scatter(x_values,y_values)\n",
    "plt.plot(x_values,regress_values,\"r-\")\n",
    "\n",
    "plt.annotate(line_eq,(0,50),fontsize=15,color=\"red\")\n",
    "plt.xlabel('Lattitude')\n",
    "plt.ylabel('Max Temp')\n",
    "print(f\"The r-squared is: {rvalue**2}\")\n",
    "plt.savefig('../output_data/5. Northern Max Temp vs. Lat.png')\n",
    "plt.show()"
   ]
  },
  {
   "cell_type": "markdown",
   "metadata": {},
   "source": [
    "####  Southern Hemisphere - Max Temp vs. Latitude Linear Regression"
   ]
  },
  {
   "cell_type": "code",
   "execution_count": 82,
   "metadata": {},
   "outputs": [
    {
     "name": "stdout",
     "output_type": "stream",
     "text": [
      "The r-squared is: 0.5703639602986493\n"
     ]
    },
    {
     "data": {
      "image/png": "[encoded data removed]",
      "text/plain": [
       "<Figure size 432x288 with 1 Axes>"
      ]
     },
     "metadata": {
      "needs_background": "light"
     },
     "output_type": "display_data"
    }
   ],
   "source": [
    "x_values = southern_df['Lat']\n",
    "y_values =  southern_df['Max Temp']\n",
    "\n",
    "(slope, intercept, rvalue, pvalue, stderr) = linregress(x_values, y_values)\n",
    "regress_values = x_values * slope + intercept\n",
    "line_eq = \"y = \" + str(round(slope,2)) + \"x + \" + str(round(intercept,2))\n",
    "\n",
    "plt.scatter(x_values,y_values)\n",
    "plt.plot(x_values,regress_values,\"r-\")\n",
    "\n",
    "plt.annotate(line_eq,(-55,70),fontsize=15,color=\"red\")\n",
    "plt.xlabel('Lattitude')\n",
    "plt.ylabel('Max Temp')\n",
    "print(f\"The r-squared is: {rvalue**2}\")\n",
    "plt.savefig('../output_data/6. Southern Max Temp vs. Lat.png')\n",
    "plt.show()"
   ]
  },
  {
   "cell_type": "markdown",
   "metadata": {},
   "source": [
    "####  Northern Hemisphere - Humidity (%) vs. Latitude Linear Regression"
   ]
  },
  {
   "cell_type": "code",
   "execution_count": 57,
   "metadata": {},
   "outputs": [
    {
     "name": "stdout",
     "output_type": "stream",
     "text": [
      "The r-squared is: 0.00019768900110878757\n"
     ]
    },
    {
     "data": {
      "image/png": "[encoded data removed]",
      "text/plain": [
       "<Figure size 432x288 with 1 Axes>"
      ]
     },
     "metadata": {
      "needs_background": "light"
     },
     "output_type": "display_data"
    }
   ],
   "source": [
    "x_values = northern_df['Lat']\n",
    "y_values =  northern_df['Humidity']\n",
    "\n",
    "(slope, intercept, rvalue, pvalue, stderr) = linregress(x_values, y_values)\n",
    "regress_values = x_values * slope + intercept\n",
    "line_eq = \"y = \" + str(round(slope,2)) + \"x + \" + str(round(intercept,2))\n",
    "\n",
    "plt.scatter(x_values,y_values)\n",
    "plt.plot(x_values,regress_values,\"r-\")\n",
    "\n",
    "plt.annotate(line_eq,(0,50),fontsize=15,color=\"red\")\n",
    "plt.xlabel('Lattitude')\n",
    "plt.ylabel('Humidity')\n",
    "print(f\"The r-squared is: {rvalue**2}\")\n",
    "plt.savefig('../output_data/7. Northern Humidity vs. Lat.png')\n",
    "plt.show()"
   ]
  },
  {
   "cell_type": "markdown",
   "metadata": {},
   "source": [
    "####  Southern Hemisphere - Humidity (%) vs. Latitude Linear Regression"
   ]
  },
  {
   "cell_type": "code",
   "execution_count": 80,
   "metadata": {},
   "outputs": [
    {
     "name": "stdout",
     "output_type": "stream",
     "text": [
      "The r-squared is: 0.0008574631613279182\n"
     ]
    },
    {
     "data": {
      "image/png": "[encoded data removed]",
      "text/plain": [
       "<Figure size 432x288 with 1 Axes>"
      ]
     },
     "metadata": {
      "needs_background": "light"
     },
     "output_type": "display_data"
    }
   ],
   "source": [
    "x_values = southern_df['Lat']\n",
    "y_values =  southern_df['Humidity']\n",
    "\n",
    "(slope, intercept, rvalue, pvalue, stderr) = linregress(x_values, y_values)\n",
    "regress_values = x_values * slope + intercept\n",
    "line_eq = \"y = \" + str(round(slope,2)) + \"x + \" + str(round(intercept,2))\n",
    "\n",
    "plt.scatter(x_values,y_values)\n",
    "plt.plot(x_values,regress_values,\"r-\")\n",
    "\n",
    "plt.annotate(line_eq,(-55,20),fontsize=15,color=\"red\")\n",
    "plt.xlabel('Lattitude')\n",
    "plt.ylabel('Max Temp')\n",
    "print(f\"The r-squared is: {rvalue**2}\")\n",
    "plt.savefig('../output_data/8. Southern Humidity vs. Lat.png')\n",
    "plt.show()"
   ]
  },
  {
   "cell_type": "markdown",
   "metadata": {},
   "source": [
    "####  Northern Hemisphere - Cloudiness (%) vs. Latitude Linear Regression"
   ]
  },
  {
   "cell_type": "code",
   "execution_count": 78,
   "metadata": {},
   "outputs": [
    {
     "name": "stdout",
     "output_type": "stream",
     "text": [
      "The r-squared is: 0.0006518358703072586\n"
     ]
    },
    {
     "data": {
      "image/png": "[encoded data removed]",
      "text/plain": [
       "<Figure size 432x288 with 1 Axes>"
      ]
     },
     "metadata": {
      "needs_background": "light"
     },
     "output_type": "display_data"
    }
   ],
   "source": [
    "x_values = northern_df['Lat']\n",
    "y_values =  northern_df['Cloudiness']\n",
    "\n",
    "(slope, intercept, rvalue, pvalue, stderr) = linregress(x_values, y_values)\n",
    "regress_values = x_values * slope + intercept\n",
    "line_eq = \"y = \" + str(round(slope,2)) + \"x + \" + str(round(intercept,2))\n",
    "\n",
    "plt.scatter(x_values,y_values)\n",
    "plt.plot(x_values,regress_values,\"r-\")\n",
    "\n",
    "plt.annotate(line_eq,(20,60),fontsize=15,color=\"red\")\n",
    "plt.xlabel('Lattitude')\n",
    "plt.ylabel('Cloudiness')\n",
    "print(f\"The r-squared is: {rvalue**2}\")\n",
    "plt.savefig('../output_data/9. Northern Cloudiness vs. Lat.png')\n",
    "plt.show()"
   ]
  },
  {
   "cell_type": "markdown",
   "metadata": {},
   "source": [
    "####  Southern Hemisphere - Cloudiness (%) vs. Latitude Linear Regression"
   ]
  },
  {
   "cell_type": "code",
   "execution_count": 77,
   "metadata": {},
   "outputs": [
    {
     "name": "stdout",
     "output_type": "stream",
     "text": [
      "The r-squared is: 0.015615759429336549\n"
     ]
    },
    {
     "data": {
      "image/png": "[encoded data removed]",
      "text/plain": [
       "<Figure size 432x288 with 1 Axes>"
      ]
     },
     "metadata": {
      "needs_background": "light"
     },
     "output_type": "display_data"
    }
   ],
   "source": [
    "x_values = southern_df['Lat']\n",
    "y_values =  southern_df['Cloudiness']\n",
    "\n",
    "(slope, intercept, rvalue, pvalue, stderr) = linregress(x_values, y_values)\n",
    "regress_values = x_values * slope + intercept\n",
    "line_eq = \"y = \" + str(round(slope,2)) + \"x + \" + str(round(intercept,2))\n",
    "\n",
    "plt.scatter(x_values,y_values)\n",
    "plt.plot(x_values,regress_values,\"r-\")\n",
    "\n",
    "plt.annotate(line_eq,(-55,30),fontsize=15,color=\"red\")\n",
    "plt.xlabel('Lattitude')\n",
    "plt.ylabel('Cloudiness')\n",
    "print(f\"The r-squared is: {rvalue**2}\")\n",
    "plt.savefig('../output_data/10. Souththern Cloudiness vs. Lat.png')\n",
    "plt.show()"
   ]
  },
  {
   "cell_type": "markdown",
   "metadata": {},
   "source": [
    "####  Northern Hemisphere - Wind Speed (mph) vs. Latitude Linear Regression"
   ]
  },
  {
   "cell_type": "code",
   "execution_count": 81,
   "metadata": {},
   "outputs": [
    {
     "name": "stdout",
     "output_type": "stream",
     "text": [
      "The r-squared is: 0.0005103163778772255\n"
     ]
    },
    {
     "data": {
      "image/png": "[encoded data removed]",
      "text/plain": [
       "<Figure size 432x288 with 1 Axes>"
      ]
     },
     "metadata": {
      "needs_background": "light"
     },
     "output_type": "display_data"
    }
   ],
   "source": [
    "x_values = northern_df['Lat']\n",
    "y_values =  northern_df['Wind Speed']\n",
    "\n",
    "(slope, intercept, rvalue, pvalue, stderr) = linregress(x_values, y_values)\n",
    "regress_values = x_values * slope + intercept\n",
    "line_eq = \"y = \" + str(round(slope,2)) + \"x + \" + str(round(intercept,2))\n",
    "\n",
    "plt.scatter(x_values,y_values)\n",
    "plt.plot(x_values,regress_values,\"r-\")\n",
    "\n",
    "plt.annotate(line_eq,(40,50),fontsize=15,color=\"red\")\n",
    "plt.xlabel('Lattitude')\n",
    "plt.ylabel('Wind Speed')\n",
    "print(f\"The r-squared is: {rvalue**2}\")\n",
    "plt.savefig('../output_data/11. Northern Wind Speed vs. Lat.png')\n",
    "plt.show()"
   ]
  },
  {
   "cell_type": "markdown",
   "metadata": {},
   "source": [
    "####  Southern Hemisphere - Wind Speed (mph) vs. Latitude Linear Regression"
   ]
  },
  {
   "cell_type": "code",
   "execution_count": 73,
   "metadata": {},
   "outputs": [
    {
     "name": "stdout",
     "output_type": "stream",
     "text": [
      "The r-squared is: 0.0020772253459761534\n"
     ]
    },
    {
     "data": {
      "image/png": "[encoded data removed]",
      "text/plain": [
       "<Figure size 432x288 with 1 Axes>"
      ]
     },
     "metadata": {
      "needs_background": "light"
     },
     "output_type": "display_data"
    }
   ],
   "source": [
    "x_values = southern_df['Lat']\n",
    "y_values =  southern_df['Wind Speed']\n",
    "\n",
    "(slope, intercept, rvalue, pvalue, stderr) = linregress(x_values, y_values)\n",
    "regress_values = x_values * slope + intercept\n",
    "line_eq = \"y = \" + str(round(slope,2)) + \"x + \" + str(round(intercept,2))\n",
    "\n",
    "plt.scatter(x_values,y_values)\n",
    "plt.plot(x_values,regress_values,\"r-\")\n",
    "\n",
    "plt.annotate(line_eq,(-50,20), fontsize=15,color=\"red\")\n",
    "plt.xlabel('Lattitude')\n",
    "plt.ylabel('Wind Speed')\n",
    "print(f\"The r-squared is: {rvalue**2}\")\n",
    "plt.savefig('../output_data/12. Southern Wind Speed vs. Lat.png')\n",
    "plt.show()"
   ]
  },
  {
   "cell_type": "markdown",
   "metadata": {},
   "source": [
    "### Observations\n",
    "* Locations near and just North of the Equator tend to be warmer and more humid\n",
    "* Then Northern hemisphere tends to be much more humid than the Southern\n",
    "* According to the Linear regression for the Max Temp vs. Latitude, there is a Negative realatioship. Whereas in the Southern Hemisphere, there is a Positive relationship. "
   ]
  },
  {
   "cell_type": "code",
   "execution_count": null,
   "metadata": {},
   "outputs": [],
   "source": []
  }
 ],
 "metadata": {
  "anaconda-cloud": {},
  "kernel_info": {
   "name": "python3"
  },
  "kernelspec": {
   "display_name": "Python 3",
   "language": "python",
   "name": "python3"
  },
  "language_info": {
   "codemirror_mode": {
    "name": "ipython",
    "version": 3
   },
   "file_extension": ".py",
   "mimetype": "text/x-python",
   "name": "python",
   "nbconvert_exporter": "python",
   "pygments_lexer": "ipython3",
   "version": "3.7.6"
  },
  "latex_envs": {
   "LaTeX_envs_menu_present": true,
   "autoclose": false,
   "autocomplete": true,
   "bibliofile": "biblio.bib",
   "cite_by": "apalike",
   "current_citInitial": 1,
   "eqLabelWithNumbers": true,
   "eqNumInitial": 1,
   "hotkeys": {
    "equation": "Ctrl-E",
    "itemize": "Ctrl-I"
   },
   "labels_anchors": false,
   "latex_user_defs": false,
   "report_style_numbering": false,
   "user_envs_cfg": false
  },
  "nteract": {
   "version": "0.12.3"
  }
 },
 "nbformat": 4,
 "nbformat_minor": 2
}
